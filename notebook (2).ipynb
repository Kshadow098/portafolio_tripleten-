{
 "cells": [
  {
   "cell_type": "markdown",
   "id": "eb085540-b951-4b57-b2ab-733dc6742045",
   "metadata": {},
   "source": [
    "# ¡Hola Maximiliano! <a class=\"tocSkip\"></a>\n",
    "\n",
    "Mi nombre es Oscar Flores y tengo el gusto de revisar tu proyecto. Si tienes algún comentario que quieras agregar en tus respuestas te puedes referir a mi como Oscar, no hay problema que me trates de tú.\n",
    "\n",
    "Si veo un error en la primera revisión solamente lo señalaré y dejaré que tú encuentres de qué se trata y cómo arreglarlo. Debo prepararte para que te desempeñes como especialista en Data, en un trabajo real, el responsable a cargo tuyo hará lo mismo. Si aún tienes dificultades para resolver esta tarea, te daré indicaciones más precisas en una siguiente iteración.\n",
    "\n",
    "Te dejaré mis comentarios más abajo - **por favor, no los muevas, modifiques o borres**\n",
    "\n",
    "Comenzaré mis comentarios con un resumen de los puntos que están bien, aquellos que debes corregir y aquellos que puedes mejorar. Luego deberás revisar todo el notebook para leer mis comentarios, los cuales estarán en rectángulos de color verde, amarillo o rojo como siguen:\n",
    "\n",
    "<div class='alert alert-block alert-success'>\n",
    "<b>Comentario de Reviewer</b> <a class='tocSkip'></a>\n",
    "\n",
    "Muy bien! Toda la respuesta fue lograda satisfactoriamente.\n",
    "</div>\n",
    "\n",
    "<div class='alert alert-block alert-warning'>\n",
    "<b>Comentario de Reviewer</b> <a class='tocSkip'></a>\n",
    "\n",
    "Existen detalles a mejorar. Existen recomendaciones.\n",
    "</div>\n",
    "\n",
    "<div class='alert alert-block alert-danger'>\n",
    "\n",
    "<b>Comentario de Reviewer</b> <a class='tocSkip'></a>\n",
    "\n",
    "Se necesitan correcciones en el bloque. El trabajo no puede ser aceptado con comentarios en rojo sin solucionar.\n",
    "</div>\n",
    "\n",
    "Cualquier comentario que quieras agregar entre iteraciones de revisión lo puedes hacer de la siguiente manera:\n",
    "\n",
    "<div class='alert alert-block alert-info'>\n",
    "<b>Respuesta estudiante.</b> <a class='tocSkip'></a>\n",
    "</div>\n",
    "\n",
    "Mucho éxito en el proyecto!"
   ]
  },
  {
   "cell_type": "markdown",
   "id": "5626b657-e06e-4035-a38c-5bbe310e2bf2",
   "metadata": {},
   "source": [
    "## Resumen de la revisión v1 <a class=\"tocSkip\"></a>"
   ]
  },
  {
   "cell_type": "markdown",
   "id": "65598a0c-bb5f-466b-9ef7-84abb0417517",
   "metadata": {},
   "source": [
    "<div class=\"alert alert-block alert-danger\">\n",
    "<b>Comentario de Revisor</b> <a class=\"tocSkip\"></a>\n",
    "\n",
    "Hola Maximiliano, ¿cómo va todo? Espero que estés teniendo una buena jornada.\n",
    "\n",
    "Buen trabajo completando todos los puntos del notebook. El proyecto en general está bien logrado, con una correcta implementación del código necesario. Solo falta pulir un pequeño detalle en la parte de análisis de los nulos. Te dejé anotaciones en rojo con observaciones puntuales para que puedas hacer esos ajustes.\n",
    "\n",
    "Ante cualquier duda, no dudes en dejar un comentario en azul. Con gusto lo atenderé en la próxima iteración.\n",
    "\n",
    "Saludos!\n",
    "\n",
    "\n",
    "</div>"
   ]
  },
  {
   "cell_type": "markdown",
   "id": "b822029f-3e38-4b76-b432-f4ed7df60768",
   "metadata": {},
   "source": [
    "## Resumen de la revisión v2 <a class=\"tocSkip\"></a>"
   ]
  },
  {
   "cell_type": "markdown",
   "id": "951e5145-b52a-411e-ba68-e234d734fcef",
   "metadata": {},
   "source": [
    "<div class=\"alert alert-block alert-success\">\n",
    "<b>Comentario de Revisor  v2 </b> <a class=\"tocSkip\"></a>\n",
    "\n",
    "¡Felicitaciones Maximiliano! Hiciste un gran trabajo con las últimas correcciones. El notebook está completo y todo está en orden, por lo que tu proyecto queda aprobado. Lo que aprendiste y aplicaste aquí te servirá muchísimo en futuros desafíos de análisis de datos. ¡Mucho éxito!\n",
    "\n",
    "Saludos.\n",
    "\n",
    "</div>"
   ]
  },
  {
   "cell_type": "markdown",
   "id": "5fc25ade-059f-44ac-b7d2-36822359eaaa",
   "metadata": {},
   "source": [
    "----"
   ]
  },
  {
   "cell_type": "markdown",
   "id": "3Xg_RQfnafXz",
   "metadata": {
    "id": "3Xg_RQfnafXz"
   },
   "source": [
    "# ¡Llena ese carrito!"
   ]
  },
  {
   "cell_type": "markdown",
   "id": "mhIvmmkW414q",
   "metadata": {
    "id": "mhIvmmkW414q"
   },
   "source": [
    "# Introducción\n",
    "\n",
    "Instacart es una plataforma de entregas de comestibles donde la clientela puede registrar un pedido y hacer que se lo entreguen, similar a Uber Eats y Door Dash.\n",
    "El conjunto de datos que te hemos proporcionado tiene modificaciones del original. Redujimos el tamaño del conjunto para que tus cálculos se hicieran más rápido e introdujimos valores ausentes y duplicados. Tuvimos cuidado de conservar las distribuciones de los datos originales cuando hicimos los cambios.\n",
    "\n",
    "Debes completar tres pasos. Para cada uno de ellos, escribe una breve introducción que refleje con claridad cómo pretendes resolver cada paso, y escribe párrafos explicatorios que justifiquen tus decisiones al tiempo que avanzas en tu solución.  También escribe una conclusión que resuma tus hallazgos y elecciones.\n"
   ]
  },
  {
   "cell_type": "markdown",
   "id": "3MbyzpOQZ5Or",
   "metadata": {
    "id": "3MbyzpOQZ5Or"
   },
   "source": [
    "## Diccionario de datos\n",
    "\n",
    "Hay cinco tablas en el conjunto de datos, y tendrás que usarlas todas para hacer el preprocesamiento de datos y el análisis exploratorio de datos. A continuación se muestra un diccionario de datos que enumera las columnas de cada tabla y describe los datos que contienen.\n",
    "\n",
    "- `instacart_orders.csv`: cada fila corresponde a un pedido en la aplicación Instacart.\n",
    "    - `'order_id'`: número de ID que identifica de manera única cada pedido.\n",
    "    - `'user_id'`: número de ID que identifica de manera única la cuenta de cada cliente.\n",
    "    - `'order_number'`: el número de veces que este cliente ha hecho un pedido.\n",
    "    - `'order_dow'`: día de la semana en que se hizo el pedido (0 si es domingo).\n",
    "    - `'order_hour_of_day'`: hora del día en que se hizo el pedido.\n",
    "    - `'days_since_prior_order'`: número de días transcurridos desde que este cliente hizo su pedido anterior.\n",
    "- `products.csv`: cada fila corresponde a un producto único que pueden comprar los clientes.\n",
    "    - `'product_id'`: número ID que identifica de manera única cada producto.\n",
    "    - `'product_name'`: nombre del producto.\n",
    "    - `'aisle_id'`: número ID que identifica de manera única cada categoría de pasillo de víveres.\n",
    "    - `'department_id'`: número ID que identifica de manera única cada departamento de víveres.\n",
    "- `order_products.csv`: cada fila corresponde a un artículo pedido en un pedido.\n",
    "    - `'order_id'`: número de ID que identifica de manera única cada pedido.\n",
    "    - `'product_id'`: número ID que identifica de manera única cada producto.\n",
    "    - `'add_to_cart_order'`: el orden secuencial en el que se añadió cada artículo en el carrito.\n",
    "    - `'reordered'`: 0 si el cliente nunca ha pedido este producto antes, 1 si lo ha pedido.\n",
    "- `aisles.csv`\n",
    "    - `'aisle_id'`: número ID que identifica de manera única cada categoría de pasillo de víveres.\n",
    "    - `'aisle'`: nombre del pasillo.\n",
    "- `departments.csv`\n",
    "    - `'department_id'`: número ID que identifica de manera única cada departamento de víveres.\n",
    "    - `'department'`: nombre del departamento."
   ]
  },
  {
   "cell_type": "markdown",
   "id": "n3Ha_cNSZ8lK",
   "metadata": {
    "id": "n3Ha_cNSZ8lK"
   },
   "source": [
    "# Paso 1. Descripción de los datos\n",
    "\n",
    "Lee los archivos de datos (`/datasets/instacart_orders.csv`, `/datasets/products.csv`, `/datasets/aisles.csv`, `/datasets/departments.csv` y `/datasets/order_products.csv`) con `pd.read_csv()` usando los parámetros adecuados para leer los datos correctamente. Verifica la información para cada DataFrame creado.\n"
   ]
  },
  {
   "cell_type": "markdown",
   "id": "OmlQPLlyaAfR",
   "metadata": {
    "id": "OmlQPLlyaAfR"
   },
   "source": [
    "## Plan de solución\n",
    "\n",
    "Escribe aquí tu plan de solución para el Paso 1. Descripción de los datos."
   ]
  },
  {
   "cell_type": "code",
   "execution_count": 3,
   "id": "fbf1adab",
   "metadata": {
    "id": "fbf1adab"
   },
   "outputs": [],
   "source": [
    "import pandas as pd # importar librerías"
   ]
  },
  {
   "cell_type": "code",
   "execution_count": 4,
   "id": "ad36396d",
   "metadata": {
    "id": "ad36396d"
   },
   "outputs": [],
   "source": [
    "orders = pd.read_csv(\"/datasets/instacart_orders.csv\",sep=\";\")\n",
    "products = pd.read_csv(\"/datasets/products.csv\",sep=\";\")\n",
    "aisles = pd.read_csv(\"/datasets/aisles.csv\",sep=\";\")\n",
    "departments = pd.read_csv(\"/datasets/departments.csv\",sep=\";\")\n",
    "order_products = pd.read_csv(\"/datasets/order_products.csv\",sep=\";\")# leer conjuntos de datos en los DataFrames"
   ]
  },
  {
   "cell_type": "markdown",
   "id": "dccef03d-3f12-4b9e-abab-f1b34e8e52da",
   "metadata": {},
   "source": [
    "<div class=\"alert alert-block alert-success\">\n",
    "<b>Comentario de Revisor</b> <a class=\"tocSkip\"></a>\n",
    "\n",
    "Correcto. Bien hecho al importar la data usando el parámetro `sep=;\"` para que la lectura de los datos se pueda realizar correctamente.\n",
    "    \n",
    "\n",
    "</div>"
   ]
  },
  {
   "cell_type": "code",
   "execution_count": 5,
   "id": "ad6a1efa",
   "metadata": {
    "id": "ad6a1efa"
   },
   "outputs": [
    {
     "name": "stdout",
     "output_type": "stream",
     "text": [
      "<class 'pandas.core.frame.DataFrame'>\n",
      "RangeIndex: 478967 entries, 0 to 478966\n",
      "Data columns (total 6 columns):\n",
      " #   Column                  Non-Null Count   Dtype  \n",
      "---  ------                  --------------   -----  \n",
      " 0   order_id                478967 non-null  int64  \n",
      " 1   user_id                 478967 non-null  int64  \n",
      " 2   order_number            478967 non-null  int64  \n",
      " 3   order_dow               478967 non-null  int64  \n",
      " 4   order_hour_of_day       478967 non-null  int64  \n",
      " 5   days_since_prior_order  450148 non-null  float64\n",
      "dtypes: float64(1), int64(5)\n",
      "memory usage: 21.9 MB\n",
      "None\n"
     ]
    }
   ],
   "source": [
    "print(orders.info())# mostrar información del DataFrame"
   ]
  },
  {
   "cell_type": "code",
   "execution_count": 6,
   "id": "5130e05e",
   "metadata": {
    "id": "5130e05e"
   },
   "outputs": [
    {
     "name": "stdout",
     "output_type": "stream",
     "text": [
      "<class 'pandas.core.frame.DataFrame'>\n",
      "RangeIndex: 49694 entries, 0 to 49693\n",
      "Data columns (total 4 columns):\n",
      " #   Column         Non-Null Count  Dtype \n",
      "---  ------         --------------  ----- \n",
      " 0   product_id     49694 non-null  int64 \n",
      " 1   product_name   48436 non-null  object\n",
      " 2   aisle_id       49694 non-null  int64 \n",
      " 3   department_id  49694 non-null  int64 \n",
      "dtypes: int64(3), object(1)\n",
      "memory usage: 1.5+ MB\n",
      "None\n"
     ]
    }
   ],
   "source": [
    "print(products.info())# mostrar información del DataFrame"
   ]
  },
  {
   "cell_type": "code",
   "execution_count": 7,
   "id": "d8370c05",
   "metadata": {
    "id": "d8370c05"
   },
   "outputs": [
    {
     "name": "stdout",
     "output_type": "stream",
     "text": [
      "<class 'pandas.core.frame.DataFrame'>\n",
      "RangeIndex: 134 entries, 0 to 133\n",
      "Data columns (total 2 columns):\n",
      " #   Column    Non-Null Count  Dtype \n",
      "---  ------    --------------  ----- \n",
      " 0   aisle_id  134 non-null    int64 \n",
      " 1   aisle     134 non-null    object\n",
      "dtypes: int64(1), object(1)\n",
      "memory usage: 2.2+ KB\n",
      "None\n"
     ]
    }
   ],
   "source": [
    "print(aisles.info())# mostrar información del DataFrame"
   ]
  },
  {
   "cell_type": "code",
   "execution_count": 8,
   "id": "59e2090f",
   "metadata": {
    "id": "59e2090f"
   },
   "outputs": [
    {
     "name": "stdout",
     "output_type": "stream",
     "text": [
      "<class 'pandas.core.frame.DataFrame'>\n",
      "RangeIndex: 21 entries, 0 to 20\n",
      "Data columns (total 2 columns):\n",
      " #   Column         Non-Null Count  Dtype \n",
      "---  ------         --------------  ----- \n",
      " 0   department_id  21 non-null     int64 \n",
      " 1   department     21 non-null     object\n",
      "dtypes: int64(1), object(1)\n",
      "memory usage: 464.0+ bytes\n",
      "None\n"
     ]
    }
   ],
   "source": [
    "print(departments.info())# mostrar información del DataFrame"
   ]
  },
  {
   "cell_type": "code",
   "execution_count": 9,
   "id": "6fc81694",
   "metadata": {
    "id": "6fc81694"
   },
   "outputs": [
    {
     "name": "stdout",
     "output_type": "stream",
     "text": [
      "<class 'pandas.core.frame.DataFrame'>\n",
      "RangeIndex: 4545007 entries, 0 to 4545006\n",
      "Data columns (total 4 columns):\n",
      " #   Column             Dtype  \n",
      "---  ------             -----  \n",
      " 0   order_id           int64  \n",
      " 1   product_id         int64  \n",
      " 2   add_to_cart_order  float64\n",
      " 3   reordered          int64  \n",
      "dtypes: float64(1), int64(3)\n",
      "memory usage: 138.7 MB\n",
      "None\n"
     ]
    }
   ],
   "source": [
    "print(order_products.info())# mostrar información del DataFrame"
   ]
  },
  {
   "cell_type": "markdown",
   "id": "t75BD19oaR5f",
   "metadata": {
    "id": "t75BD19oaR5f"
   },
   "source": [
    "## Conclusiones\n",
    "\n",
    "Escribe aquí tus conclusiones intermedias sobre el Paso 1. Descripción de los datos.\n",
    "Los nombres de las columnas, están en una sola fila.Ahí hay que aplicar la función sep=\";\", para que  reconozcan las columnas \n"
   ]
  },
  {
   "cell_type": "code",
   "execution_count": null,
   "id": "5ecbf823-9e79-4792-895d-58858be891a1",
   "metadata": {},
   "outputs": [],
   "source": []
  },
  {
   "cell_type": "markdown",
   "id": "8RJHqxVmaVsF",
   "metadata": {
    "id": "8RJHqxVmaVsF"
   },
   "source": [
    "# Paso 2. Preprocesamiento de los datos\n",
    "\n",
    "Preprocesa los datos de la siguiente manera:\n",
    "\n",
    "- Verifica y corrige los tipos de datos (por ejemplo, asegúrate de que las columnas de ID sean números enteros).\n",
    "- Identifica y completa los valores ausentes.\n",
    "- Identifica y elimina los valores duplicados.\n",
    "\n",
    "Asegúrate de explicar qué tipos de valores ausentes y duplicados encontraste, cómo los completaste o eliminaste y por qué usaste esos métodos. ¿Por qué crees que estos valores ausentes y duplicados pueden haber estado presentes en el conjunto de datos?"
   ]
  },
  {
   "cell_type": "markdown",
   "id": "p6poABZQaZYb",
   "metadata": {
    "id": "p6poABZQaZYb"
   },
   "source": [
    "## Plan de solución\n",
    "\n",
    "Escribe aquí tu plan para el Paso 2. Preprocesamiento de los datos."
   ]
  },
  {
   "cell_type": "markdown",
   "id": "07357848-dc64-4156-9cc3-01ff4365226d",
   "metadata": {
    "id": "07357848-dc64-4156-9cc3-01ff4365226d"
   },
   "source": [
    "## Encuentra y elimina los valores duplicados (y describe cómo tomaste tus decisiones)."
   ]
  },
  {
   "cell_type": "markdown",
   "id": "f179f0a9",
   "metadata": {
    "id": "f179f0a9"
   },
   "source": [
    "### `orders` data frame"
   ]
  },
  {
   "cell_type": "code",
   "execution_count": 10,
   "id": "b99297a5-405a-463d-8535-9adc3da4ad74",
   "metadata": {
    "id": "b99297a5-405a-463d-8535-9adc3da4ad74"
   },
   "outputs": [
    {
     "name": "stdout",
     "output_type": "stream",
     "text": [
      "        order_id  user_id  order_number  order_dow  order_hour_of_day  \\\n",
      "30371    1918001   188546            14          3                  2   \n",
      "99462     794638    50898            24          3                  2   \n",
      "119251    408114    68324             4          3                  2   \n",
      "142258   2845099    31189            11          3                  2   \n",
      "145574    794638    50898            24          3                  2   \n",
      "164581   1112182   202304            84          3                  2   \n",
      "200059   1782114   106752             1          3                  2   \n",
      "204042   2125197    14050            48          3                  2   \n",
      "215294   2160484   107525            16          3                  2   \n",
      "223105   2160484   107525            16          3                  2   \n",
      "230807   1918001   188546            14          3                  2   \n",
      "242618   1021560    53767             3          3                  2   \n",
      "250626    467134    63189            21          3                  2   \n",
      "257934   1919531   191501            32          3                  2   \n",
      "259636   2282673    86751            49          3                  2   \n",
      "266232   1782114   106752             1          3                  2   \n",
      "273805   1112182   202304            84          3                  2   \n",
      "284038   2845099    31189            11          3                  2   \n",
      "311713   1021560    53767             3          3                  2   \n",
      "314427   1286742   183220            48          3                  2   \n",
      "321100    408114    68324             4          3                  2   \n",
      "323900   1919531   191501            32          3                  2   \n",
      "324868   2232988    82565             1          3                  2   \n",
      "345917   2232988    82565             1          3                  2   \n",
      "354993    391768    57671            19          3                  2   \n",
      "371905    391768    57671            19          3                  2   \n",
      "394347    467134    63189            21          3                  2   \n",
      "411408   1286742   183220            48          3                  2   \n",
      "415163   2282673    86751            49          3                  2   \n",
      "441599   2125197    14050            48          3                  2   \n",
      "\n",
      "        days_since_prior_order  \n",
      "30371                     16.0  \n",
      "99462                      2.0  \n",
      "119251                    18.0  \n",
      "142258                     7.0  \n",
      "145574                     2.0  \n",
      "164581                     6.0  \n",
      "200059                     NaN  \n",
      "204042                     3.0  \n",
      "215294                    30.0  \n",
      "223105                    30.0  \n",
      "230807                    16.0  \n",
      "242618                     9.0  \n",
      "250626                     2.0  \n",
      "257934                     7.0  \n",
      "259636                     2.0  \n",
      "266232                     NaN  \n",
      "273805                     6.0  \n",
      "284038                     7.0  \n",
      "311713                     9.0  \n",
      "314427                     4.0  \n",
      "321100                    18.0  \n",
      "323900                     7.0  \n",
      "324868                     NaN  \n",
      "345917                     NaN  \n",
      "354993                    10.0  \n",
      "371905                    10.0  \n",
      "394347                     2.0  \n",
      "411408                     4.0  \n",
      "415163                     2.0  \n",
      "441599                     3.0  \n",
      "\n",
      "ordenes duplicados : 15\n"
     ]
    }
   ],
   "source": [
    "# Revisa si hay pedidos duplicados\n",
    "duplicados = orders[orders[\"order_id\"].duplicated(keep=False)]\n",
    "print(duplicados)\n",
    "print()\n",
    "print(\"ordenes duplicados :\", (orders[\"order_id\"].duplicated().sum()))"
   ]
  },
  {
   "cell_type": "markdown",
   "id": "PEkwUX_gvt5A",
   "metadata": {
    "id": "PEkwUX_gvt5A"
   },
   "source": [
    "¿Tienes líneas duplicadas? Si sí, ¿qué tienen en común?"
   ]
  },
  {
   "cell_type": "code",
   "execution_count": 11,
   "id": "0d44de5d",
   "metadata": {
    "id": "0d44de5d"
   },
   "outputs": [
    {
     "name": "stdout",
     "output_type": "stream",
     "text": [
      "4838      2766110\n",
      "5156      2190225\n",
      "15506      553049\n",
      "18420      382357\n",
      "24691      690242\n",
      "           ...   \n",
      "457013    3384021\n",
      "458816     910166\n",
      "459635    1680532\n",
      "468324     222962\n",
      "477526    2592344\n",
      "Name: order_id, Length: 121, dtype: int64\n"
     ]
    }
   ],
   "source": [
    "# Basándote en tus hallazgos,\n",
    "# Verifica todos los pedidos que se hicieron el miércoles a las 2:00 a.m.\n",
    "miercoles_2am = (orders[\"order_dow\"] ==3) & (orders[\"order_hour_of_day\"]==2)\n",
    "print(orders.loc[miercoles_2am,\"order_id\"])"
   ]
  },
  {
   "cell_type": "markdown",
   "id": "vu2OWyoqwOx5",
   "metadata": {
    "id": "vu2OWyoqwOx5"
   },
   "source": [
    "¿Qué sugiere este resultado?"
   ]
  },
  {
   "cell_type": "code",
   "execution_count": 12,
   "id": "480563c7",
   "metadata": {
    "id": "480563c7"
   },
   "outputs": [
    {
     "name": "stdout",
     "output_type": "stream",
     "text": [
      "Duplicados eliminados: 15\n"
     ]
    }
   ],
   "source": [
    "# Elimina los pedidos duplicados\n",
    "original = len(orders)\n",
    "orders = orders.drop_duplicates()\n",
    "final = len(orders)\n",
    "\n",
    "print(f\"Duplicados eliminados: {original - final}\")"
   ]
  },
  {
   "cell_type": "code",
   "execution_count": 13,
   "id": "0b2396a2",
   "metadata": {
    "id": "0b2396a2"
   },
   "outputs": [
    {
     "name": "stdout",
     "output_type": "stream",
     "text": [
      "0\n"
     ]
    }
   ],
   "source": [
    "# Vuelve a verificar si hay filas duplicadas\n",
    "print(orders.duplicated().sum())"
   ]
  },
  {
   "cell_type": "code",
   "execution_count": 14,
   "id": "f6113ef1",
   "metadata": {
    "id": "f6113ef1"
   },
   "outputs": [
    {
     "name": "stdout",
     "output_type": "stream",
     "text": [
      "0\n"
     ]
    }
   ],
   "source": [
    "# Vuelve a verificar únicamente si hay IDs duplicados de pedidos\n",
    "print(orders[\"order_id\"].duplicated().sum())"
   ]
  },
  {
   "cell_type": "markdown",
   "id": "5e8905ae",
   "metadata": {
    "id": "5e8905ae"
   },
   "source": [
    "Describe brevemente tus hallazgos y lo que hiciste con ellos"
   ]
  },
  {
   "cell_type": "markdown",
   "id": "065e0557-e9d7-48b1-bed7-50b3a37353d3",
   "metadata": {},
   "source": [
    "<div class=\"alert alert-block alert-success\">\n",
    "<b>Comentario de Reviewer</b> <a class=\"tocSkip\"></a>\n",
    "    \n",
    "Bien hecho, dado que todos los duplicados coincidian en el horario y día, es probable que se haya debido a un problema momentaneo en el registro de la data. En un entorno profesional, sería importante revisar que este problema no afecte a muchos registros y ver con el área responsable si esto es un problema conocido o no.\n",
    "</div>"
   ]
  },
  {
   "cell_type": "markdown",
   "id": "45e6bc46",
   "metadata": {
    "id": "45e6bc46"
   },
   "source": [
    "### `products` data frame"
   ]
  },
  {
   "cell_type": "code",
   "execution_count": 15,
   "id": "5f526b5b-8175-46fa-a0fd-441767d50e64",
   "metadata": {
    "id": "5f526b5b-8175-46fa-a0fd-441767d50e64"
   },
   "outputs": [
    {
     "name": "stdout",
     "output_type": "stream",
     "text": [
      "Filas totalmente duplicadas: 0\n"
     ]
    }
   ],
   "source": [
    "# Verifica si hay filas totalmente duplicadas\n",
    "print(\"Filas totalmente duplicadas:\", products.duplicated().sum())"
   ]
  },
  {
   "cell_type": "code",
   "execution_count": 16,
   "id": "88daa4f4",
   "metadata": {
    "id": "88daa4f4"
   },
   "outputs": [
    {
     "name": "stdout",
     "output_type": "stream",
     "text": [
      "IDs de productos duplicados: 0\n"
     ]
    }
   ],
   "source": [
    "# Revisa únicamente si hay ID de productos duplicados\n",
    "print(\"IDs de productos duplicados:\", products[\"product_id\"].duplicated().sum())"
   ]
  },
  {
   "cell_type": "code",
   "execution_count": 17,
   "id": "c773f0bf",
   "metadata": {
    "id": "c773f0bf"
   },
   "outputs": [
    {
     "name": "stdout",
     "output_type": "stream",
     "text": [
      "Nombres de productos duplicados: 1361\n"
     ]
    }
   ],
   "source": [
    "# Revisa únicamente si hay nombres duplicados de productos (convierte los nombres a letras mayúsculas para compararlos mejor)\n",
    "nombres_mayus = products[\"product_name\"].str.upper()\n",
    "duplicados_nombres = nombres_mayus.duplicated().sum()\n",
    "print(\"Nombres de productos duplicados:\", duplicados_nombres)"
   ]
  },
  {
   "cell_type": "code",
   "execution_count": 18,
   "id": "01efd02e",
   "metadata": {
    "id": "01efd02e"
   },
   "outputs": [
    {
     "name": "stdout",
     "output_type": "stream",
     "text": [
      "104\n"
     ]
    }
   ],
   "source": [
    "# Revisa si hay nombres duplicados de productos no faltantes\n",
    "nombres_no_nulos = products[\"product_name\"].dropna()\n",
    "nombres_may = nombres_no_nulos.str.upper()\n",
    "nombres_dupl = nombres_may.duplicated().sum()\n",
    "print(nombres_dupl)"
   ]
  },
  {
   "cell_type": "markdown",
   "id": "9da8d293",
   "metadata": {
    "id": "9da8d293"
   },
   "source": [
    "Describe brevemente tus hallazgos y lo que hiciste con ellos.\n",
    "\n",
    "Se revisaron con products[\"product_id\"].duplicated().sum().\n",
    "\n",
    "Resultado: Todos los product_id son únicos (0 duplicados), lo cual es correcto si esta columna actúa como identificador principal.\n",
    "\n",
    "Se convirtieron los nombres a mayúsculas con .str.upper() para hacer comparaciones insensibles a mayúsculas/minúsculas.\n",
    "\n",
    "Resultado: Se detectaron 1361 duplicados, lo que indica que muchos productos comparten el mismo nombre aunque podrían tener diferente ID o características.\n",
    "\n",
    "Se excluyeron los valores nulos con .dropna() antes de comparar.\n",
    "\n",
    "Resultado: Hay 104 nombres duplicados entre los que no son nulos, lo que indica que parte de los 1361 duplicados incluyen valores faltantes o inconsistencias."
   ]
  },
  {
   "cell_type": "markdown",
   "id": "0bfc23df-9ab9-4dd2-827f-ee18388673ff",
   "metadata": {},
   "source": [
    "<div class=\"alert alert-block alert-success\">\n",
    "<b>Comentario de Revisor</b> <a class=\"tocSkip\"></a>\n",
    "\n",
    "Muy bien. En este caso, no es anormal encontrar nombres duplicados y no es necesario eliminarlos. Tienen diferente id, por lo tanto, es posible que sean diferentes versiones de un mismo producto.\n",
    "</div>"
   ]
  },
  {
   "cell_type": "markdown",
   "id": "60f30db1",
   "metadata": {
    "id": "60f30db1"
   },
   "source": [
    "### `departments` data frame"
   ]
  },
  {
   "cell_type": "code",
   "execution_count": 19,
   "id": "fb410ad4-0fbf-4b80-bb09-23fdea79afe3",
   "metadata": {
    "id": "fb410ad4-0fbf-4b80-bb09-23fdea79afe3"
   },
   "outputs": [
    {
     "name": "stdout",
     "output_type": "stream",
     "text": [
      "Numero de filas duplicadas: 0\n"
     ]
    }
   ],
   "source": [
    "# Revisa si hay filas totalmente duplicadas\n",
    "print(\"Numero de filas duplicadas:\",(departments.duplicated().sum()))"
   ]
  },
  {
   "cell_type": "code",
   "execution_count": 20,
   "id": "332b12bb",
   "metadata": {
    "id": "332b12bb"
   },
   "outputs": [
    {
     "name": "stdout",
     "output_type": "stream",
     "text": [
      "Numero de id duplicados en departamentos: 0\n"
     ]
    }
   ],
   "source": [
    "# Revisa únicamente si hay IDs duplicadas de departamentos\n",
    "print(\"Numero de id duplicados en departamentos:\",(departments[\"department_id\"].duplicated().sum()))"
   ]
  },
  {
   "cell_type": "markdown",
   "id": "bd30d78e",
   "metadata": {
    "id": "bd30d78e"
   },
   "source": [
    "Describe brevemente tus hallazgos y lo que hiciste con ellos."
   ]
  },
  {
   "cell_type": "markdown",
   "id": "889349c1",
   "metadata": {
    "id": "889349c1"
   },
   "source": [
    "### `aisles` data frame"
   ]
  },
  {
   "cell_type": "code",
   "execution_count": 21,
   "id": "9da89fb9-4679-40f5-ad0d-c34df753a3f8",
   "metadata": {
    "id": "9da89fb9-4679-40f5-ad0d-c34df753a3f8"
   },
   "outputs": [
    {
     "name": "stdout",
     "output_type": "stream",
     "text": [
      "Numero de filas duplicadas: 0\n"
     ]
    }
   ],
   "source": [
    "# Revisa si hay filas totalmente duplicadas\n",
    "print(\"Numero de filas duplicadas:\",(aisles.duplicated().sum()))"
   ]
  },
  {
   "cell_type": "code",
   "execution_count": 22,
   "id": "da7c2822",
   "metadata": {
    "id": "da7c2822"
   },
   "outputs": [
    {
     "name": "stdout",
     "output_type": "stream",
     "text": [
      "Numero de id de pasillo duplicado: 0\n"
     ]
    }
   ],
   "source": [
    "# Revisa únicamente si hay IDs duplicadas de pasillos\n",
    "print(\"Numero de id de pasillo duplicado:\",(aisles[\"aisle_id\"].duplicated().sum()))"
   ]
  },
  {
   "cell_type": "markdown",
   "id": "ac63826f",
   "metadata": {
    "id": "ac63826f"
   },
   "source": [
    "Describe brevemente tus hallazgos y lo que hiciste con ellos."
   ]
  },
  {
   "cell_type": "markdown",
   "id": "274cd06a",
   "metadata": {
    "id": "274cd06a"
   },
   "source": [
    "### `order_products` data frame"
   ]
  },
  {
   "cell_type": "code",
   "execution_count": 23,
   "id": "52326689-84a8-4b8f-a881-7c68780f62c9",
   "metadata": {
    "id": "52326689-84a8-4b8f-a881-7c68780f62c9"
   },
   "outputs": [
    {
     "name": "stdout",
     "output_type": "stream",
     "text": [
      "Numero de filas duplicadas: 0\n"
     ]
    }
   ],
   "source": [
    "# Revisa si hay filas totalmente duplicadas\n",
    "print(\"Numero de filas duplicadas:\",(order_products.duplicated().sum()))"
   ]
  },
  {
   "cell_type": "code",
   "execution_count": 24,
   "id": "7b861391",
   "metadata": {
    "id": "7b861391"
   },
   "outputs": [
    {
     "name": "stdout",
     "output_type": "stream",
     "text": [
      "Duplicados por combinación order_id y product_id: 0\n"
     ]
    }
   ],
   "source": [
    "# Vuelve a verificar si hay cualquier otro duplicado engañoso\n",
    "duplicados_combinados = order_products.duplicated(subset=[\"order_id\", \"product_id\"]).sum()\n",
    "print(\"Duplicados por combinación order_id y product_id:\", duplicados_combinados)"
   ]
  },
  {
   "cell_type": "markdown",
   "id": "0b890492",
   "metadata": {
    "id": "0b890492"
   },
   "source": [
    "Describe brevemente tus hallazgos y lo que hiciste con ellos."
   ]
  },
  {
   "cell_type": "markdown",
   "id": "cfb476c9-5fb0-438d-8788-7b7d11a37507",
   "metadata": {},
   "source": [
    "<div class=\"alert alert-block alert-success\">\n",
    "<b>Comentario de Revisor</b> <a class=\"tocSkip\"></a>\n",
    "\n",
    "Buen trabajo en esta sección con la revisión de duplicados\n",
    "\n",
    "</div>"
   ]
  },
  {
   "cell_type": "markdown",
   "id": "1e46de76",
   "metadata": {
    "id": "1e46de76"
   },
   "source": [
    "## Encuentra y elimina los valores ausentes\n",
    "\n",
    "Al trabajar con valores duplicados, pudimos observar que también nos falta investigar valores ausentes:\n",
    "\n",
    "* La columna `'product_name'` de la tabla products.\n",
    "* La columna `'days_since_prior_order'` de la tabla orders.\n",
    "* La columna `'add_to_cart_order'` de la tabla order_productos."
   ]
  },
  {
   "cell_type": "markdown",
   "id": "c0aebd78",
   "metadata": {
    "id": "c0aebd78"
   },
   "source": [
    "### `products` data frame"
   ]
  },
  {
   "cell_type": "code",
   "execution_count": 25,
   "id": "fe4a8b0f",
   "metadata": {
    "id": "fe4a8b0f"
   },
   "outputs": [
    {
     "name": "stdout",
     "output_type": "stream",
     "text": [
      "Valores ausentes en nombre de produtco: 1258\n"
     ]
    }
   ],
   "source": [
    "# Encuentra los valores ausentes en la columna 'product_name'\n",
    "print(\"Valores ausentes en nombre de produtco:\",(products[\"product_name\"].isna().sum()))"
   ]
  },
  {
   "cell_type": "markdown",
   "id": "-A6x1AbJhjkp",
   "metadata": {
    "id": "-A6x1AbJhjkp"
   },
   "source": [
    "Describe brevemente cuáles son tus hallazgos."
   ]
  },
  {
   "cell_type": "code",
   "execution_count": 26,
   "id": "e96167bc",
   "metadata": {
    "id": "e96167bc"
   },
   "outputs": [
    {
     "name": "stdout",
     "output_type": "stream",
     "text": [
      "Productos con nombre ausente y pasillo distinto de 100: 0\n"
     ]
    }
   ],
   "source": [
    "#  ¿Todos los nombres de productos ausentes están relacionados con el pasillo con ID 100?\n",
    "productos_sin_nombre = products[products[\"product_name\"].isna()]\n",
    "otros_pasillos = productos_sin_nombre[productos_sin_nombre[\"aisle_id\"] != 100]\n",
    "print(\"Productos con nombre ausente y pasillo distinto de 100:\", len(otros_pasillos))\n"
   ]
  },
  {
   "cell_type": "markdown",
   "id": "WRpIfXRphpSL",
   "metadata": {
    "id": "WRpIfXRphpSL"
   },
   "source": [
    "Describe brevemente cuáles son tus hallazgos.\n",
    "No hay productos ausentes fuera del pasillo 100, por lo tanto todos los productos ausentes estan dentro del pasillo 100 \n"
   ]
  },
  {
   "cell_type": "code",
   "execution_count": 27,
   "id": "8fd0a541",
   "metadata": {
    "id": "8fd0a541"
   },
   "outputs": [
    {
     "name": "stdout",
     "output_type": "stream",
     "text": [
      "Productos con nombre ausente y departamento distinto de 21: 0\n"
     ]
    }
   ],
   "source": [
    "# ¿Todos los nombres de productos ausentes están relacionados con el departamento con ID 21?\n",
    "productos_sin_nombre = products[products[\"product_name\"].isna()]\n",
    "otros_departamentos = productos_sin_nombre[productos_sin_nombre[\"department_id\"] != 21]\n",
    "print(\"Productos con nombre ausente y departamento distinto de 21:\", len(otros_departamentos))\n"
   ]
  },
  {
   "cell_type": "markdown",
   "id": "qDpdYn1Fht_I",
   "metadata": {
    "id": "qDpdYn1Fht_I"
   },
   "source": [
    "Describe brevemente cuáles son tus hallazgos.\n",
    "Todos los productos ausentes estan relacionados al pasiilo 21 \n"
   ]
  },
  {
   "cell_type": "code",
   "execution_count": 28,
   "id": "325c3464",
   "metadata": {
    "id": "325c3464"
   },
   "outputs": [
    {
     "name": "stdout",
     "output_type": "stream",
     "text": [
      "    aisle_id    aisle\n",
      "99       100  missing\n",
      "    department_id department\n",
      "20             21    missing\n"
     ]
    }
   ],
   "source": [
    "# Usa las tablas department y aisle para revisar los datos del pasillo con ID 100 y el departamento con ID 21.\n",
    "print(aisles[aisles[\"aisle_id\"] == 100])\n",
    "\n",
    "print(departments[departments[\"department_id\"]==21])"
   ]
  },
  {
   "cell_type": "markdown",
   "id": "nqhSTUPhhvEJ",
   "metadata": {
    "id": "nqhSTUPhhvEJ"
   },
   "source": [
    "Describe brevemente cuáles son tus hallazgos."
   ]
  },
  {
   "cell_type": "code",
   "execution_count": 29,
   "id": "6b295120",
   "metadata": {
    "id": "6b295120"
   },
   "outputs": [],
   "source": [
    "# Completa los nombres de productos ausentes con 'Unknown'\n",
    "products[\"product_name\"] = products[\"product_name\"].fillna(\"Unknown\")\n"
   ]
  },
  {
   "cell_type": "markdown",
   "id": "fc70e5ad",
   "metadata": {
    "id": "fc70e5ad"
   },
   "source": [
    "Describe brevemente tus hallazgos y lo que hiciste con ellos."
   ]
  },
  {
   "cell_type": "markdown",
   "id": "67a45625-1ed1-4afa-85f1-b0f35fec8361",
   "metadata": {},
   "source": [
    "<div class=\"alert alert-block alert-success\">\n",
    "<b>Comentario de Revisor</b> <a class=\"tocSkip\"></a>\n",
    "\n",
    "Muy bien, debe haber sido un error específico al registrar los datos de ese pasillo y departamento\n",
    "</div>"
   ]
  },
  {
   "cell_type": "markdown",
   "id": "7eb45c86",
   "metadata": {
    "id": "7eb45c86"
   },
   "source": [
    "### `orders` data frame"
   ]
  },
  {
   "cell_type": "code",
   "execution_count": 39,
   "id": "93e41d96",
   "metadata": {
    "id": "93e41d96"
   },
   "outputs": [
    {
     "name": "stdout",
     "output_type": "stream",
     "text": [
      "Valores nulos en toda la tabla:\n",
      "order_id                      0\n",
      "user_id                       0\n",
      "order_number                  0\n",
      "order_dow                     0\n",
      "order_hour_of_day             0\n",
      "days_since_prior_order    28817\n",
      "dtype: int64\n"
     ]
    }
   ],
   "source": [
    "# Encuentra los valores ausentes\n",
    "print(\"Valores nulos en toda la tabla:\")\n",
    "print(orders.isna().sum())"
   ]
  },
  {
   "cell_type": "code",
   "execution_count": 40,
   "id": "166e5a86",
   "metadata": {
    "id": "166e5a86"
   },
   "outputs": [
    {
     "name": "stdout",
     "output_type": "stream",
     "text": [
      "\n",
      "Valores nulos en primeros pedidos (order_number == 1):\n",
      "order_id                      0\n",
      "user_id                       0\n",
      "order_number                  0\n",
      "order_dow                     0\n",
      "order_hour_of_day             0\n",
      "days_since_prior_order    28817\n",
      "dtype: int64\n",
      "\n",
      "¿Todos los valores nulos ocurren solo en el primer pedido?\n",
      "order_id                  True\n",
      "user_id                   True\n",
      "order_number              True\n",
      "order_dow                 True\n",
      "order_hour_of_day         True\n",
      "days_since_prior_order    True\n",
      "dtype: bool\n"
     ]
    }
   ],
   "source": [
    "# ¿Hay algún valor ausente que no sea el primer pedido del cliente?\n",
    "primeros_pedidos = orders[orders['order_number'] == 1]\n",
    "\n",
    "print(\"\\nValores nulos en primeros pedidos (order_number == 1):\")\n",
    "print(primeros_pedidos.isna().sum())\n",
    "\n",
    "print(\"\\n¿Todos los valores nulos ocurren solo en el primer pedido?\")\n",
    "print(orders.isna().sum() == primeros_pedidos.isna().sum())\n",
    "\n",
    "\n",
    "\n"
   ]
  },
  {
   "cell_type": "markdown",
   "id": "4e23d089",
   "metadata": {
    "id": "4e23d089"
   },
   "source": [
    "Describe brevemente tus hallazgos y lo que hiciste con ellos."
   ]
  },
  {
   "cell_type": "markdown",
   "id": "ef9d22c6-e415-44e6-a332-6681a9817a7a",
   "metadata": {},
   "source": [
    "<div class=\"alert alert-block alert-danger\">\n",
    "<b>Comentario de Revisor</b> <a class=\"tocSkip\"></a>\n",
    "\n",
    "En esta parte se quieren revisar todos los nulos y en qué casos ocurre. La pregunta `¿Hay algún valor ausente que no sea el primer pedido del cliente?` apunta a que probablemente los únicos casos cuando hay nulo es porque es el primer pedido del cliente.\n",
    "\n",
    "Cuenta los nulos para toda la data y cuenta los nulos para la data donde es el primer pedido del usuario (order_number es 1). Si son iguales, es que todos los ausentes son del primer pedido.\n",
    "</div>\n"
   ]
  },
  {
   "cell_type": "markdown",
   "id": "b3e9cdca-0c72-444b-b676-7ed980cf5eb3",
   "metadata": {},
   "source": [
    "<div class=\"alert alert-block alert-success\">\n",
    "<b>Comentario de Revisor v2  </b> <a class=\"tocSkip\"></a>\n",
    "\n",
    "\n",
    "Muy bien, correcto, aunque es importante que agregues las conclusiones.\n",
    "\n",
    "\n",
    "</div>"
   ]
  },
  {
   "cell_type": "markdown",
   "id": "69dc9ca4",
   "metadata": {
    "id": "69dc9ca4"
   },
   "source": [
    "### `order_products` data frame"
   ]
  },
  {
   "cell_type": "code",
   "execution_count": 32,
   "id": "b8240253",
   "metadata": {
    "id": "b8240253"
   },
   "outputs": [
    {
     "name": "stdout",
     "output_type": "stream",
     "text": [
      "order_id               0\n",
      "product_id             0\n",
      "add_to_cart_order    836\n",
      "reordered              0\n",
      "dtype: int64\n"
     ]
    }
   ],
   "source": [
    "# Encuentra los valores ausentes\n",
    "print(order_products.isnull().sum())"
   ]
  },
  {
   "cell_type": "code",
   "execution_count": 33,
   "id": "9a78e5ee",
   "metadata": {
    "id": "9a78e5ee"
   },
   "outputs": [
    {
     "name": "stdout",
     "output_type": "stream",
     "text": [
      "1.0\n",
      "64.0\n"
     ]
    }
   ],
   "source": [
    "# ¿Cuáles son los valores mínimos y máximos en esta columna?\n",
    "print(order_products[\"add_to_cart_order\"].min())\n",
    "print(order_products[\"add_to_cart_order\"].max())"
   ]
  },
  {
   "cell_type": "markdown",
   "id": "-Z2Ja215jW78",
   "metadata": {
    "id": "-Z2Ja215jW78"
   },
   "source": [
    "Describe brevemente cuáles son tus hallazgos."
   ]
  },
  {
   "cell_type": "code",
   "execution_count": 34,
   "id": "ab9d0c2b",
   "metadata": {
    "id": "ab9d0c2b"
   },
   "outputs": [
    {
     "name": "stdout",
     "output_type": "stream",
     "text": [
      "4376706    1386261\n",
      "2429133    3308010\n",
      "1740780    2721963\n",
      "4184594    1730767\n",
      "1633323    1800005\n",
      "1440596    3125735\n",
      "4381473    1386261\n",
      "3816634      61355\n",
      "2696271      61355\n",
      "752827      102236\n",
      "Name: order_id, dtype: int64\n"
     ]
    }
   ],
   "source": [
    "# Guarda todas las IDs de pedidos que tengan un valor ausente en 'add_to_cart_order'\n",
    "missing_add_to_cart_ids = order_products[order_products['add_to_cart_order'].isnull()]['order_id']\n",
    "print(missing_add_to_cart_ids.sample(10))"
   ]
  },
  {
   "cell_type": "markdown",
   "id": "bf3fd03a-6635-478f-817e-972b20a420c0",
   "metadata": {},
   "source": [
    "<div class=\"alert alert-block alert-success\">\n",
    "<b>Comentario de Revisor</b> <a class=\"tocSkip\"></a>\n",
    "\n",
    "Muy bien, correcta la obtención del listado de pedidos con nulos en `add_to_cart_order`, aunque sería mejor tener los únicos, para esto podrías hacer `order_products[order_products['add_to_cart_order'].isnull()]['order_id'].unique()`\n",
    "</div>\n"
   ]
  },
  {
   "cell_type": "code",
   "execution_count": 37,
   "id": "54c31695",
   "metadata": {
    "id": "54c31695"
   },
   "outputs": [
    {
     "name": "stdout",
     "output_type": "stream",
     "text": [
      "Minimo de productos con valores na: 65\n",
      "Maximo de productos con valores na: 127\n",
      "¿Todos los pedidos con valores nulos tienen más de 64 productos? True\n"
     ]
    }
   ],
   "source": [
    "# ¿Todos los pedidos con valores ausentes tienen más de 64 productos?\n",
    "# Agrupa todos los pedidos con datos ausentes por su ID de pedido.\n",
    "# Cuenta el número de 'product_id' en cada pedido y revisa el valor mínimo del conteo.\n",
    "missing_add_to_cart_ids = order_products[order_products[\"add_to_cart_order\"].isnull()][\"order_id\"].unique()\n",
    "pedidos_con_na = order_products[order_products['order_id'].isin(missing_add_to_cart_ids)]\n",
    "conteo_productos = pedidos_con_na.groupby(\"order_id\")[\"product_id\"].count()\n",
    "\n",
    "min_productos = conteo_productos.min()\n",
    "max_productos = conteo_productos.max()\n",
    "\n",
    "print(\"Minimo de productos con valores na:\",min_productos)\n",
    "print(\"Maximo de productos con valores na:\",max_productos)\n",
    "\n",
    "pedidos_mayores_64 = min_productos > 64\n",
    "\n",
    "print(\"¿Todos los pedidos con valores nulos tienen más de 64 productos?\", pedidos_mayores_64)\n",
    "\n",
    "\n",
    "\n"
   ]
  },
  {
   "cell_type": "markdown",
   "id": "8fe3b41d-4f45-41e6-bb81-db9350216b21",
   "metadata": {},
   "source": [
    "<div class=\"alert alert-block alert-danger\">\n",
    "<b>Comentario de Revisor</b> <a class=\"tocSkip\"></a>\n",
    "\n",
    "El cálculo de esta parte es incorrecto. Lo que estás haciendo es contar la parte del pedido que tiene nulos. Este código:\n",
    "\n",
    "```python\n",
    "    missing_orders = order_products[order_products['add_to_cart_order'].isnull()]\n",
    "\n",
    "```\n",
    "\n",
    "\n",
    "selecciona solamente las filas que tienen nulos. Sin embargo, en el dataframe `order_products` un pedido tiene varias filas, y lo que queremos seleccionar son todas las filas de los pedidos que tienen al menos un nulo en `add_to_cart_order`. Para esto, será mejor que uses la lista que determinaste en la celda anterior con un código así o similar:\n",
    "\n",
    "```python\n",
    "    pedidos_con_na = order_products[order_products['order_id'].isin(missing_add_to_cart_ids)]\n",
    "\n",
    "```\n",
    "    \n",
    "luego sobre ese resultado cuenta los productos que tienen esos pedidos  usando `groupby` y `count()`. Para ver la cantidad mínima y máxima, usa `min()` y `max()` sobre esto último.\n",
    "</div>"
   ]
  },
  {
   "cell_type": "markdown",
   "id": "89c5bda8-e261-405b-ac56-a31f6a7701e5",
   "metadata": {},
   "source": [
    "<div class=\"alert alert-block alert-success\">\n",
    "<b>Comentario de Revisor   v2     </b> <a class=\"tocSkip\"></a>\n",
    "\n",
    "Bien hecho, es probable que el sistema no permita más de 64 tipos de productos en esa columna, por lo que no guarda nada después\n",
    "    \n",
    "</div>"
   ]
  },
  {
   "cell_type": "markdown",
   "id": "p9V6pddtjglj",
   "metadata": {
    "id": "p9V6pddtjglj"
   },
   "source": [
    "Describe brevemente cuáles son tus hallazgos."
   ]
  },
  {
   "cell_type": "code",
   "execution_count": 34,
   "id": "7a987d08",
   "metadata": {
    "id": "7a987d08"
   },
   "outputs": [],
   "source": [
    "# Remplaza los valores ausentes en la columna 'add_to_cart? con 999 y convierte la columna al tipo entero.\n",
    "order_products['add_to_cart_order'] = order_products['add_to_cart_order'].fillna(999)\n",
    "order_products['add_to_cart_order'] = order_products['add_to_cart_order'].astype(int)\n"
   ]
  },
  {
   "cell_type": "markdown",
   "id": "fea4bcc7",
   "metadata": {
    "id": "fea4bcc7"
   },
   "source": [
    "Describe brevemente tus hallazgos y lo que hiciste con ellos."
   ]
  },
  {
   "cell_type": "markdown",
   "id": "RnplPFY1gSrb",
   "metadata": {
    "id": "RnplPFY1gSrb"
   },
   "source": [
    "## Conclusiones\n",
    "\n",
    "Escribe aquí tus conclusiones intermedias sobre el Paso 2. Preprocesamiento de los datos\n"
   ]
  },
  {
   "cell_type": "markdown",
   "id": "UjrOIwTcz3ri",
   "metadata": {
    "id": "UjrOIwTcz3ri"
   },
   "source": [
    "# Paso 3. Análisis de los datos\n",
    "\n",
    "Una vez los datos estén procesados y listos, haz el siguiente análisis:"
   ]
  },
  {
   "cell_type": "markdown",
   "id": "turkish-kidney",
   "metadata": {
    "id": "turkish-kidney"
   },
   "source": [
    "# [A] Fácil (deben completarse todos para aprobar)\n",
    "\n",
    "1. Verifica que los valores en las columnas `'order_hour_of_day'` y `'order_dow'` en la tabla orders sean razonables (es decir, `'order_hour_of_day'` oscile entre 0 y 23 y `'order_dow'` oscile entre 0 y 6).\n",
    "2. Crea un gráfico que muestre el número de personas que hacen pedidos dependiendo de la hora del día.\n",
    "3. Crea un gráfico que muestre qué día de la semana la gente hace sus compras.\n",
    "4. Crea un gráfico que muestre el tiempo que la gente espera hasta hacer su siguiente pedido, y comenta sobre los valores mínimos y máximos."
   ]
  },
  {
   "cell_type": "markdown",
   "id": "short-capability",
   "metadata": {
    "id": "short-capability"
   },
   "source": [
    "### [A1] Verifica que los valores sean sensibles"
   ]
  },
  {
   "cell_type": "code",
   "execution_count": 35,
   "id": "growing-fruit",
   "metadata": {
    "id": "growing-fruit"
   },
   "outputs": [
    {
     "name": "stdout",
     "output_type": "stream",
     "text": [
      "Hora del día 0 a 23\n"
     ]
    }
   ],
   "source": [
    "print(\"Hora del día\",orders[\"order_hour_of_day\"].min(),\"a\",orders[\"order_hour_of_day\"].max())"
   ]
  },
  {
   "cell_type": "code",
   "execution_count": 36,
   "id": "22494c8f-97f8-4837-9dc0-8fbedab7ca6d",
   "metadata": {},
   "outputs": [
    {
     "name": "stdout",
     "output_type": "stream",
     "text": [
      "Dia de la semana 0 a 6\n"
     ]
    }
   ],
   "source": [
    "print(\"Dia de la semana\",orders[\"order_dow\"].min(),\"a\",orders[\"order_dow\"].max())"
   ]
  },
  {
   "cell_type": "markdown",
   "id": "hmR2GNQ6lCsX",
   "metadata": {
    "id": "hmR2GNQ6lCsX"
   },
   "source": [
    "Escribe aquí tus conclusiones"
   ]
  },
  {
   "cell_type": "markdown",
   "id": "ba9351a9-1e1a-4534-9158-b66ec148f271",
   "metadata": {},
   "source": [
    "<div class=\"alert alert-block alert-success\">\n",
    "<b>Comentario de Revisor</b> <a class=\"tocSkip\"></a>\n",
    "\n",
    "Correcto, muy bien con el cálculo. Ahora estamos seguros que tenemos datos que hacen sentido en estas columnas.\n",
    "    \n",
    "</div>"
   ]
  },
  {
   "cell_type": "markdown",
   "id": "a6743a70",
   "metadata": {
    "id": "a6743a70"
   },
   "source": [
    "### [A2] Para cada hora del día, ¿cuántas personas hacen órdenes?"
   ]
  },
  {
   "cell_type": "code",
   "execution_count": 37,
   "id": "a36cca27",
   "metadata": {
    "id": "a36cca27"
   },
   "outputs": [
    {
     "data": {
      "image/png": "[encoded data removed]",
      "text/plain": [
       "<Figure size 640x480 with 1 Axes>"
      ]
     },
     "metadata": {},
     "output_type": "display_data"
    }
   ],
   "source": [
    "import pandas as pd\n",
    "import matplotlib.pyplot as plt\n",
    "\n",
    "orders = pd.read_csv(\"/datasets/instacart_orders.csv\", sep=';')\n",
    "\n",
    "pedidos_por_hora = orders[\"order_hour_of_day\"].value_counts().sort_index()\n",
    "\n",
    "df_plot = pedidos_por_hora.reset_index()\n",
    "df_plot.columns = ['hora', 'numero_pedidos']\n",
    "\n",
    "df_plot.plot(\n",
    "    x='hora',\n",
    "    y='numero_pedidos',\n",
    "    kind='bar',\n",
    "    legend=False,\n",
    "    xlabel=\"Hora del día\",\n",
    "    ylabel=\"Número de personas\",\n",
    "    title=\"Tráfico de órdenes por hora\",\n",
    ")\n",
    "plt.show()"
   ]
  },
  {
   "cell_type": "markdown",
   "id": "66705203-1517-417e-8ec9-cf5f514f80a4",
   "metadata": {},
   "source": [
    "\n",
    "<div class=\"alert alert-block alert-success\">\n",
    "<b>Comentario de Revisor   </b> <a class=\"tocSkip\"></a>\n",
    "\n",
    "\n",
    "Bien hecho con este gráfico, se observa que hay pedidos nocturnos, tal vez sea un error debido a gestiones internas del supermercado u ordenes online.\n",
    "\n",
    "</div>"
   ]
  },
  {
   "cell_type": "markdown",
   "id": "11270eed",
   "metadata": {
    "id": "11270eed"
   },
   "source": [
    "Escribe aquí tus conclusiones"
   ]
  },
  {
   "cell_type": "markdown",
   "id": "documented-command",
   "metadata": {
    "id": "documented-command"
   },
   "source": [
    "### [A3] ¿Qué día de la semana compran víveres las personas?"
   ]
  },
  {
   "cell_type": "code",
   "execution_count": 38,
   "id": "chief-digit",
   "metadata": {
    "id": "chief-digit"
   },
   "outputs": [
    {
     "data": {
      "image/png": "[encoded data removed]",
      "text/plain": [
       "<Figure size 1000x600 with 1 Axes>"
      ]
     },
     "metadata": {},
     "output_type": "display_data"
    }
   ],
   "source": [
    "import pandas as pd\n",
    "from matplotlib import pyplot as plt\n",
    "\n",
    "\n",
    "df = pd.read_csv(\"/datasets/instacart_orders.csv\", sep=\";\")\n",
    "\n",
    "\n",
    "dia_semana = df[\"order_dow\"].value_counts().sort_index()\n",
    "\n",
    "df_plot = dia_semana.reset_index()\n",
    "df_plot.columns = ['dia', 'ordenes']\n",
    "\n",
    "dias = ['Domingo', 'Lunes', 'Martes', 'Miércoles', 'Jueves', 'Viernes', 'Sábado']\n",
    "\n",
    "plt.figure(figsize=(10,6))\n",
    "plt.bar(dias, df_plot['ordenes'])\n",
    "plt.title(\"Mejor día de la semana para hacer pedidos\")\n",
    "plt.xlabel(\"Día de la semana\")\n",
    "plt.ylabel(\"Número de pedidos\")\n",
    "plt.grid(axis='y', linestyle='--', alpha=0.7)\n",
    "plt.show()"
   ]
  },
  {
   "cell_type": "markdown",
   "id": "60c53506-961b-4314-9fad-61d92ce4f084",
   "metadata": {},
   "source": [
    "\n",
    "<div class=\"alert alert-block alert-success\">\n",
    "<b>Comentario de Revisor   </b> <a class=\"tocSkip\"></a>\n",
    "\n",
    "\n",
    "Bien hecho con este gráfico, se observa que hay pedidos nocturnos, tal vez sea un error debido a gestiones internas del supermercado u ordenes online.\n",
    "\n",
    "</div>"
   ]
  },
  {
   "cell_type": "markdown",
   "id": "dominant-lightning",
   "metadata": {
    "id": "dominant-lightning"
   },
   "source": [
    "Escribe aquí tus conclusiones"
   ]
  },
  {
   "cell_type": "markdown",
   "id": "cutting-concert",
   "metadata": {
    "id": "cutting-concert"
   },
   "source": [
    "### [A4] ¿Cuánto tiempo esperan las personas hasta hacer otro pedido? Comenta sobre los valores mínimos y máximos."
   ]
  },
  {
   "cell_type": "code",
   "execution_count": 39,
   "id": "c231f523",
   "metadata": {
    "id": "c231f523"
   },
   "outputs": [
    {
     "data": {
      "image/png": "[encoded data removed]",
      "text/plain": [
       "<Figure size 1000x600 with 1 Axes>"
      ]
     },
     "metadata": {},
     "output_type": "display_data"
    },
    {
     "name": "stdout",
     "output_type": "stream",
     "text": [
      "El tiempo mínimo que alguien espera para hacer su siguiente pedido es 0.0 días.\n",
      "El tiempo máximo registrado de espera es 30.0 días.\n"
     ]
    }
   ],
   "source": [
    "import pandas as pd\n",
    "import matplotlib.pyplot as plt\n",
    "\n",
    "orders = pd.read_csv(\"/datasets/instacart_orders.csv\", sep=';')\n",
    "\n",
    "espera = orders['days_since_prior_order'].dropna()\n",
    "\n",
    "plt.figure(figsize=(10,6))\n",
    "plt.hist(espera, bins=30, color='skyblue', edgecolor='black')\n",
    "plt.title('Distribución de días hasta el siguiente pedido')\n",
    "plt.xlabel('Días desde el pedido anterior')\n",
    "plt.ylabel('Cantidad de pedidos')\n",
    "plt.grid(axis='y', linestyle='--', alpha=0.7)\n",
    "plt.show()\n",
    "\n",
    "\n",
    "min_espera = espera.min()\n",
    "max_espera = espera.max()\n",
    "\n",
    "print(f\"El tiempo mínimo que alguien espera para hacer su siguiente pedido es {min_espera} días.\")\n",
    "print(f\"El tiempo máximo registrado de espera es {max_espera} días.\")"
   ]
  },
  {
   "cell_type": "markdown",
   "id": "581908e9-2185-4651-a2f8-f70e1a3543ef",
   "metadata": {},
   "source": [
    "<div class=\"alert alert-block alert-success\">\n",
    "<b>Comentario de Revisor</b> <a class=\"tocSkip\"></a>\n",
    "\n",
    "Muy bien, el gráfico es correcto. Nota que el tiempo de 30 días es muy alto, esto es sospechoso ya que es el valore más grande que se registra y es anormalmente grande respecto a los valores que vienen justo antes. Probablemente se debe a que el sistema no registra más de 30 días entre compras y todas las que son de más de ese tiempo las guarda como 30.\n",
    "    \n",
    "</div>"
   ]
  },
  {
   "cell_type": "markdown",
   "id": "discrete-vertex",
   "metadata": {
    "id": "discrete-vertex"
   },
   "source": [
    "Escribe aquí tus conclusiones"
   ]
  },
  {
   "cell_type": "markdown",
   "id": "tight-staff",
   "metadata": {
    "id": "tight-staff"
   },
   "source": [
    "# [B] Intermedio (deben completarse todos para aprobar)\n",
    "\n",
    "1. ¿Existe alguna diferencia entre las distribuciones `'order_hour_of_day'` de los miércoles y los sábados? Traza gráficos de barra de `'order_hour_of_day'` para ambos días en la misma figura y describe las diferencias que observes.\n",
    "2. Grafica la distribución para el número de órdenes que hacen los clientes (es decir, cuántos clientes hicieron solo 1 pedido, cuántos hicieron 2, cuántos 3, y así sucesivamente...).\n",
    "3. ¿Cuáles son los 20 principales productos que se piden con más frecuencia (muestra su identificación y nombre)?"
   ]
  },
  {
   "cell_type": "markdown",
   "id": "packed-classic",
   "metadata": {
    "id": "packed-classic"
   },
   "source": [
    "### [B1] Diferencia entre miércoles y sábados para  `'order_hour_of_day'`. Traza gráficos de barra para los dos días y describe las diferencias que veas."
   ]
  },
  {
   "cell_type": "code",
   "execution_count": 41,
   "id": "d89b8403",
   "metadata": {
    "id": "d89b8403"
   },
   "outputs": [
    {
     "data": {
      "image/png": "[encoded data removed]",
      "text/plain": [
       "<Figure size 1500x600 with 2 Axes>"
      ]
     },
     "metadata": {},
     "output_type": "display_data"
    }
   ],
   "source": [
    "import pandas as pd\n",
    "import matplotlib.pyplot as plt\n",
    "\n",
    "orders = pd.read_csv(\"/datasets/instacart_orders.csv\", sep=';')\n",
    "\n",
    "miercoles = orders[orders['order_dow'] == 3]\n",
    "sabado = orders[orders['order_dow'] == 6]\n",
    "\n",
    "pedidos_miercoles = miercoles['order_hour_of_day'].value_counts().sort_index()\n",
    "pedidos_sabado = sabado['order_hour_of_day'].value_counts().sort_index()\n",
    "\n",
    "df_miercoles = pedidos_miercoles.reset_index()\n",
    "df_miercoles.columns = ['hora', 'pedidos']\n",
    "\n",
    "df_sabado = pedidos_sabado.reset_index()\n",
    "df_sabado.columns = ['hora', 'pedidos']\n",
    "\n",
    "fig, axes = plt.subplots(1, 2, figsize=(15,6), sharey=True)\n",
    "\n",
    "axes[0].bar(df_miercoles['hora'], df_miercoles['pedidos'], color='skyblue')\n",
    "axes[0].set_title('Pedidos por hora - Miércoles')\n",
    "axes[0].set_xlabel('Hora del día')\n",
    "axes[0].set_ylabel('Número de pedidos')\n",
    "axes[0].set_xticks(range(24))\n",
    "\n",
    "axes[1].bar(df_sabado['hora'], df_sabado['pedidos'], color='salmon')\n",
    "axes[1].set_title('Pedidos por hora - Sábado')\n",
    "axes[1].set_xlabel('Hora del día')\n",
    "axes[1].set_xticks(range(24))\n",
    "\n",
    "plt.suptitle('Comparación de pedidos por hora: Miércoles vs Sábado')\n",
    "plt.tight_layout(rect=[0, 0.03, 1, 0.95])\n",
    "plt.show()"
   ]
  },
  {
   "cell_type": "markdown",
   "id": "d25e649d-44cd-4ca3-afb7-0eb0e04adcda",
   "metadata": {},
   "source": [
    "<div class=\"alert alert-block alert-success\">\n",
    "<b>Comentario de Revisor</b> <a class=\"tocSkip\"></a>\n",
    "\n",
    "Bien hecho, muy bien con la comparación entre los días\n",
    "    \n",
    "</div>"
   ]
  },
  {
   "cell_type": "code",
   "execution_count": null,
   "id": "94e54e8a",
   "metadata": {
    "id": "94e54e8a"
   },
   "outputs": [],
   "source": []
  },
  {
   "cell_type": "code",
   "execution_count": null,
   "id": "797c90a8",
   "metadata": {
    "id": "797c90a8"
   },
   "outputs": [],
   "source": []
  },
  {
   "cell_type": "code",
   "execution_count": null,
   "id": "35bcea30",
   "metadata": {
    "id": "35bcea30"
   },
   "outputs": [],
   "source": []
  },
  {
   "cell_type": "markdown",
   "id": "charitable-congo",
   "metadata": {
    "id": "charitable-congo"
   },
   "source": [
    "Escribe aquí tus conclusiones"
   ]
  },
  {
   "cell_type": "markdown",
   "id": "e3891143",
   "metadata": {
    "id": "e3891143"
   },
   "source": [
    "### [B2] ¿Cuál es la distribución para el número de pedidos por cliente?"
   ]
  },
  {
   "cell_type": "code",
   "execution_count": 42,
   "id": "d8c26c23",
   "metadata": {
    "id": "d8c26c23"
   },
   "outputs": [
    {
     "data": {
      "image/png": "[encoded data removed]",
      "text/plain": [
       "<Figure size 1200x600 with 1 Axes>"
      ]
     },
     "metadata": {},
     "output_type": "display_data"
    }
   ],
   "source": [
    "import pandas as pd\n",
    "import matplotlib.pyplot as plt\n",
    "\n",
    "orders = pd.read_csv(\"/datasets/instacart_orders.csv\", sep=';')\n",
    "\n",
    "pedidos_por_cliente = orders.groupby('user_id').size()\n",
    "\n",
    "distribucion_pedidos = pedidos_por_cliente.value_counts().sort_index()\n",
    "\n",
    "df_plot = distribucion_pedidos.reset_index()\n",
    "df_plot.columns = ['numero_pedidos', 'cantidad_clientes']\n",
    "\n",
    "plt.figure(figsize=(12,6))\n",
    "plt.bar(df_plot['numero_pedidos'], df_plot['cantidad_clientes'], color='mediumseagreen')\n",
    "plt.xlabel('Número de pedidos realizados por cliente')\n",
    "plt.ylabel('Cantidad de clientes')\n",
    "plt.title('Distribución del número de pedidos por cliente')\n",
    "plt.xticks(range(1, df_plot['numero_pedidos'].max() + 1))\n",
    "plt.grid(axis='y', linestyle='--', alpha=0.7)\n",
    "plt.show()"
   ]
  },
  {
   "cell_type": "markdown",
   "id": "b8a27606-f9e4-4683-b968-9252ff0f089d",
   "metadata": {},
   "source": [
    "<div class=\"alert alert-block alert-success\">\n",
    "<b>Comentario de Revisor   </b> <a class=\"tocSkip\"></a>\n",
    "\n",
    "Excelente, muy bien con el resultado.\n",
    "\n",
    "\n",
    "\n",
    "</div>"
   ]
  },
  {
   "cell_type": "code",
   "execution_count": null,
   "id": "00e69a66",
   "metadata": {
    "id": "00e69a66"
   },
   "outputs": [],
   "source": []
  },
  {
   "cell_type": "markdown",
   "id": "d2eff7d5",
   "metadata": {
    "id": "d2eff7d5"
   },
   "source": [
    "Escribe aquí tus conclusiones"
   ]
  },
  {
   "cell_type": "markdown",
   "id": "54a0319c",
   "metadata": {
    "id": "54a0319c"
   },
   "source": [
    "### [B3] ¿Cuáles son los 20 productos más populares (muestra su ID y nombre)?"
   ]
  },
  {
   "cell_type": "code",
   "execution_count": 1,
   "id": "exterior-arizona",
   "metadata": {
    "id": "exterior-arizona"
   },
   "outputs": [
    {
     "name": "stdout",
     "output_type": "stream",
     "text": [
      "    product_id  count              product_name\n",
      "0        24852  66050                    Banana\n",
      "1        13176  53297    Bag of Organic Bananas\n",
      "2        21137  37039      Organic Strawberries\n",
      "3        21903  33971      Organic Baby Spinach\n",
      "4        47209  29773      Organic Hass Avocado\n",
      "5        47766  24689           Organic Avocado\n",
      "6        47626  21495               Large Lemon\n",
      "7        16797  20018              Strawberries\n",
      "8        26209  19690                     Limes\n",
      "9        27845  19600        Organic Whole Milk\n",
      "10       27966  19197       Organic Raspberries\n",
      "11       22935  15898      Organic Yellow Onion\n",
      "12       24964  15292            Organic Garlic\n",
      "13       45007  14584          Organic Zucchini\n",
      "14       39275  13879       Organic Blueberries\n",
      "15       49683  13675            Cucumber Kirby\n",
      "16       28204  12544        Organic Fuji Apple\n",
      "17        5876  12232             Organic Lemon\n",
      "18        8277  11993  Apple Honeycrisp Organic\n",
      "19       40706  11781    Organic Grape Tomatoes\n"
     ]
    }
   ],
   "source": [
    "import pandas as pd\n",
    "\n",
    "# Cargar los datos\n",
    "order_products = pd.read_csv(\"/datasets/order_products.csv\", sep=';')  # o ',' según tu archivo\n",
    "products = pd.read_csv(\"/datasets/products.csv\", sep=';')  # o ',' según corresponda\n",
    "\n",
    "# Contar cuántas veces se pidió cada producto\n",
    "productos_populares = order_products['product_id'].value_counts().head(20)\n",
    "\n",
    "# Crear DataFrame con los 20 más populares\n",
    "df_populares = productos_populares.reset_index()\n",
    "df_populares.columns = ['product_id', 'count']\n",
    "\n",
    "# Unir con nombres de productos\n",
    "df_populares = df_populares.merge(products[['product_id', 'product_name']], on='product_id')\n",
    "\n",
    "# Mostrar resultado\n",
    "print(df_populares.head(20))"
   ]
  },
  {
   "cell_type": "markdown",
   "id": "04d3c9c5-1abd-4dee-9504-3a83e7382043",
   "metadata": {},
   "source": [
    "<div class=\"alert alert-block alert-warning\">\n",
    "<b>Comentario de Revisor</b> <a class=\"tocSkip\"></a>\n",
    "\n",
    "Correcto,  se ve que predominan los productos orgánicos y de uso diario. Recuerda mostrar los 20 primeros, para ello puedes usar head(20)\n",
    "    \n",
    "</div>"
   ]
  },
  {
   "cell_type": "code",
   "execution_count": null,
   "id": "universal-facial",
   "metadata": {
    "id": "universal-facial"
   },
   "outputs": [],
   "source": []
  },
  {
   "cell_type": "code",
   "execution_count": null,
   "id": "bbcdd20b",
   "metadata": {
    "id": "bbcdd20b"
   },
   "outputs": [],
   "source": []
  },
  {
   "cell_type": "markdown",
   "id": "7df00f47",
   "metadata": {
    "id": "7df00f47"
   },
   "source": [
    "Escribe aquí tus conclusiones"
   ]
  },
  {
   "cell_type": "markdown",
   "id": "gross-theme",
   "metadata": {
    "id": "gross-theme"
   },
   "source": [
    "# [C] Difícil (deben completarse todos para aprobar)\n",
    "\n",
    "1. ¿Cuántos artículos suelen comprar las personas en un pedido? ¿Cómo es la distribución?\n",
    "\n",
    "2. ¿Cuáles son los 20 principales artículos que vuelven a pedirse con mayor frecuencia (muestra sus nombres e IDs de los productos)?\n",
    "\n",
    "3. Para cada producto, ¿cuál es la tasa de repetición del pedido (número de repeticiones de pedido/total de pedidos?\n",
    "4. Para cada cliente, ¿qué proporción de los productos que pidió ya los había pedido? Calcula la tasa de repetición de pedido para cada usuario en lugar de para cada producto.\n",
    "5. ¿Cuáles son los 20 principales artículos que la gente pone primero en sus carritos (muestra las IDs de los productos, sus nombres, y el número de veces en que fueron el primer artículo en añadirse al carrito)?"
   ]
  },
  {
   "cell_type": "markdown",
   "id": "romantic-deposit",
   "metadata": {
    "id": "romantic-deposit"
   },
   "source": [
    "### [C1] ¿Cuántos artículos compran normalmente las personas en un pedido? ¿Cómo es la distribución?"
   ]
  },
  {
   "cell_type": "code",
   "execution_count": 45,
   "id": "virtual-punch",
   "metadata": {
    "id": "virtual-punch"
   },
   "outputs": [
    {
     "name": "stdout",
     "output_type": "stream",
     "text": [
      "count    450046.000000\n",
      "mean         10.098983\n",
      "std           7.540206\n",
      "min           1.000000\n",
      "25%           5.000000\n",
      "50%           8.000000\n",
      "75%          14.000000\n",
      "max         127.000000\n",
      "dtype: float64\n"
     ]
    },
    {
     "data": {
      "image/png": "[encoded data removed]",
      "text/plain": [
       "<Figure size 1000x600 with 1 Axes>"
      ]
     },
     "metadata": {},
     "output_type": "display_data"
    }
   ],
   "source": [
    "items_per_order = order_products.groupby('order_id').size()\n",
    "\n",
    "print(items_per_order.describe())\n",
    "\n",
    "import matplotlib.pyplot as plt\n",
    "\n",
    "plt.figure(figsize=(10, 6))\n",
    "plt.hist(items_per_order, bins=range(1, 50), edgecolor='black')\n",
    "plt.title('Distribución del número de artículos por pedido')\n",
    "plt.xlabel('Número de artículos en un pedido')\n",
    "plt.ylabel('Cantidad de pedidos')\n",
    "plt.show()"
   ]
  },
  {
   "cell_type": "markdown",
   "id": "0b7aca4c-b3c5-462a-8e80-74c5e669629f",
   "metadata": {},
   "source": [
    "<div class=\"alert alert-block alert-success\">\n",
    "<b>Comentario de Revisor      </b> <a class=\"tocSkip\"></a>\n",
    "\n",
    "Muy bien con el gráfico, está correcto. Vemos que hay una distribución concentrada en los primeros valores, pero luego cae muy rápido\n",
    "    \n",
    "</div>"
   ]
  },
  {
   "cell_type": "code",
   "execution_count": null,
   "id": "sensitive-breathing",
   "metadata": {
    "id": "sensitive-breathing"
   },
   "outputs": [],
   "source": []
  },
  {
   "cell_type": "code",
   "execution_count": null,
   "id": "completed-frank",
   "metadata": {
    "id": "completed-frank"
   },
   "outputs": [],
   "source": []
  },
  {
   "cell_type": "markdown",
   "id": "designed-mortality",
   "metadata": {
    "id": "designed-mortality"
   },
   "source": [
    "Escribe aquí tus conclusiones"
   ]
  },
  {
   "cell_type": "markdown",
   "id": "5e6b5537",
   "metadata": {
    "id": "5e6b5537"
   },
   "source": [
    "### [C2] ¿Cuáles son los 20 principales artículos que vuelven a pedirse con mayor frecuencia (muestra sus nombres e IDs de los productos)?"
   ]
  },
  {
   "cell_type": "code",
   "execution_count": 46,
   "id": "9374e55a",
   "metadata": {
    "id": "9374e55a"
   },
   "outputs": [
    {
     "name": "stdout",
     "output_type": "stream",
     "text": [
      "    product_id              product_name  reorder_count\n",
      "0        24852                    Banana          55763\n",
      "1        13176    Bag of Organic Bananas          44450\n",
      "2        21137      Organic Strawberries          28639\n",
      "3        21903      Organic Baby Spinach          26233\n",
      "4        47209      Organic Hass Avocado          23629\n",
      "5        47766           Organic Avocado          18743\n",
      "6        27845        Organic Whole Milk          16251\n",
      "7        47626               Large Lemon          15044\n",
      "8        27966       Organic Raspberries          14748\n",
      "9        16797              Strawberries          13945\n",
      "10       26209                     Limes          13327\n",
      "11       22935      Organic Yellow Onion          11145\n",
      "12       24964            Organic Garlic          10411\n",
      "13       45007          Organic Zucchini          10076\n",
      "14       49683            Cucumber Kirby           9538\n",
      "15       28204        Organic Fuji Apple           8989\n",
      "16        8277  Apple Honeycrisp Organic           8836\n",
      "17       39275       Organic Blueberries           8799\n",
      "18        5876             Organic Lemon           8412\n",
      "19       49235       Organic Half & Half           8389\n"
     ]
    }
   ],
   "source": [
    "reordered_products = order_products[order_products['reordered'] == 1]\n",
    "\n",
    "reordered_counts = reordered_products['product_id'].value_counts().head(20)\n",
    "\n",
    "top_reordered = reordered_counts.reset_index()\n",
    "top_reordered.columns = ['product_id', 'reorder_count']\n",
    "top_reordered = top_reordered.merge(products, on='product_id', how='left')\n",
    "\n",
    "print(top_reordered[['product_id', 'product_name', 'reorder_count']])"
   ]
  },
  {
   "cell_type": "markdown",
   "id": "6148dc8e-becb-4198-bbc9-abe58d5be262",
   "metadata": {},
   "source": [
    "<div class=\"alert alert-block alert-success\">\n",
    "<b>Comentario de Revisor</b> <a class=\"tocSkip\"></a>\n",
    "\n",
    "Bien hecho, vemos que los productos más pedidos también son los más reordenados\n",
    "    \n",
    "</div>"
   ]
  },
  {
   "cell_type": "code",
   "execution_count": null,
   "id": "possible-change",
   "metadata": {
    "id": "possible-change",
    "scrolled": true
   },
   "outputs": [],
   "source": []
  },
  {
   "cell_type": "code",
   "execution_count": null,
   "id": "professional-surfing",
   "metadata": {
    "id": "professional-surfing",
    "scrolled": true
   },
   "outputs": [],
   "source": []
  },
  {
   "cell_type": "code",
   "execution_count": null,
   "id": "48dd3658",
   "metadata": {
    "id": "48dd3658"
   },
   "outputs": [],
   "source": []
  },
  {
   "cell_type": "markdown",
   "id": "80e70c74",
   "metadata": {
    "id": "80e70c74"
   },
   "source": [
    "Escribe aquí tus conclusiones"
   ]
  },
  {
   "cell_type": "markdown",
   "id": "9d312b14",
   "metadata": {
    "id": "9d312b14"
   },
   "source": [
    "### [C3] Para cada producto, ¿cuál es la proporción de las veces que se pide y que se vuelve a pedir?"
   ]
  },
  {
   "cell_type": "code",
   "execution_count": 47,
   "id": "8ae9f4b1",
   "metadata": {
    "id": "8ae9f4b1"
   },
   "outputs": [
    {
     "name": "stdout",
     "output_type": "stream",
     "text": [
      "       product_id  reorder_ratio  \\\n",
      "13453       14721            1.0   \n",
      "19195       20949            1.0   \n",
      "6136         6723            1.0   \n",
      "6144         6732            1.0   \n",
      "41319       45088            1.0   \n",
      "41310       45078            1.0   \n",
      "19258       21016            1.0   \n",
      "19248       21005            1.0   \n",
      "32273       35192            1.0   \n",
      "32277       35197            1.0   \n",
      "\n",
      "                                            product_name  aisle_id  \\\n",
      "13453                            Bone Strength Take Care       133   \n",
      "19195                           Vanilla Sandwich Cookies        37   \n",
      "6136                                    Palmiers- Petite        61   \n",
      "6144                   Naturally Sparkling Mineral Water       115   \n",
      "41319  California Dill Pollen & Garlic Goat Cheese & ...         2   \n",
      "41310                                       Pomegranatea        94   \n",
      "19258       Parchment Lined 8 in x 3.75 in x 2.5 in Pans        10   \n",
      "19248                        Peanut Butter Pie Ice Cream        37   \n",
      "32273                         Chocolate Soy Milk Singles        91   \n",
      "32277  Mocha Chocolate Chip  Organic Non-Dairy Frozen...        37   \n",
      "\n",
      "       department_id  \n",
      "13453             11  \n",
      "19195              1  \n",
      "6136              19  \n",
      "6144               7  \n",
      "41319             16  \n",
      "41310              7  \n",
      "19258             17  \n",
      "19248              1  \n",
      "32273             16  \n",
      "32277              1  \n"
     ]
    }
   ],
   "source": [
    "total_orders = order_products.groupby('product_id').size()\n",
    "\n",
    "reordered_counts = order_products.groupby('product_id')['reordered'].sum()\n",
    "\n",
    "reorder_ratio = (reordered_counts / total_orders).reset_index()\n",
    "reorder_ratio.columns = ['product_id', 'reorder_ratio']\n",
    "\n",
    "result = reorder_ratio.merge(products, on='product_id', how='left')\n",
    "\n",
    "result = result.sort_values(by='reorder_ratio', ascending=False)\n",
    "\n",
    "print(result.head(10)) "
   ]
  },
  {
   "cell_type": "markdown",
   "id": "da71d71c-80b9-4f86-b497-acb38cb03d1e",
   "metadata": {},
   "source": [
    "<div class=\"alert alert-block alert-success\">\n",
    "<b>Comentario de Revisor </b> <a class=\"tocSkip\"></a>\n",
    "\n",
    "Muy bien, correcto. También se puede usar la media de `reordered` para este cálculo.\n",
    "    \n",
    "</div>"
   ]
  },
  {
   "cell_type": "code",
   "execution_count": null,
   "id": "103e7fe1",
   "metadata": {
    "id": "103e7fe1"
   },
   "outputs": [],
   "source": []
  },
  {
   "cell_type": "code",
   "execution_count": null,
   "id": "social-individual",
   "metadata": {
    "id": "social-individual"
   },
   "outputs": [],
   "source": []
  },
  {
   "cell_type": "markdown",
   "id": "I10dEIAyldcO",
   "metadata": {
    "id": "I10dEIAyldcO"
   },
   "source": [
    "Escribe aquí tus conclusiones"
   ]
  },
  {
   "cell_type": "markdown",
   "id": "subject-boxing",
   "metadata": {
    "id": "subject-boxing"
   },
   "source": [
    "### [C4] Para cada cliente, ¿qué proporción de sus productos ya los había pedido?"
   ]
  },
  {
   "cell_type": "code",
   "execution_count": 48,
   "id": "medical-couple",
   "metadata": {
    "id": "medical-couple",
    "scrolled": true
   },
   "outputs": [
    {
     "name": "stdout",
     "output_type": "stream",
     "text": [
      "   user_id  reorder_ratio\n",
      "0        2       0.038462\n",
      "1        4       0.000000\n",
      "2        5       0.666667\n",
      "3        6       0.000000\n",
      "4        7       0.928571\n",
      "5       11       0.200000\n",
      "6       12       0.250000\n",
      "7       13       0.565217\n",
      "8       14       0.360656\n",
      "9       15       0.538462\n"
     ]
    }
   ],
   "source": [
    "order_products_users = order_products.merge(orders[['order_id', 'user_id']], on='order_id', how='left')\n",
    "total_products_per_user = order_products_users.groupby('user_id').size()\n",
    "\n",
    "reordered_products_per_user = order_products_users.groupby('user_id')['reordered'].sum()\n",
    "\n",
    "reorder_ratio_per_user = (reordered_products_per_user / total_products_per_user).reset_index()\n",
    "reorder_ratio_per_user.columns = ['user_id', 'reorder_ratio']\n",
    "\n",
    "print(reorder_ratio_per_user.head(10))"
   ]
  },
  {
   "cell_type": "markdown",
   "id": "847caa7e-c989-46a3-9d74-2fa309a4f616",
   "metadata": {},
   "source": [
    "<div class=\"alert alert-block alert-success\">\n",
    "<b>Comentario de Revisor</b> <a class=\"tocSkip\"></a>\n",
    "\n",
    "Bien hecho, muy bien con el cálculo por el lado de los usuarios.\n",
    "    \n",
    "</div>"
   ]
  },
  {
   "cell_type": "code",
   "execution_count": null,
   "id": "8892e4b4",
   "metadata": {
    "id": "8892e4b4"
   },
   "outputs": [],
   "source": []
  },
  {
   "cell_type": "markdown",
   "id": "BgJSvXDsleXz",
   "metadata": {
    "id": "BgJSvXDsleXz"
   },
   "source": [
    "Escribe aquí tus conclusiones"
   ]
  },
  {
   "cell_type": "markdown",
   "id": "92d35137",
   "metadata": {
    "id": "92d35137"
   },
   "source": [
    "### [C5] ¿Cuáles son los 20 principales artículos que las personas ponen primero en sus carritos?"
   ]
  },
  {
   "cell_type": "code",
   "execution_count": 49,
   "id": "0ae57274",
   "metadata": {
    "id": "0ae57274",
    "scrolled": true
   },
   "outputs": [
    {
     "name": "stdout",
     "output_type": "stream",
     "text": [
      "    product_id                 product_name  first_position_count\n",
      "0        24852                       Banana                 15562\n",
      "1        13176       Bag of Organic Bananas                 11026\n",
      "2        27845           Organic Whole Milk                  4363\n",
      "3        21137         Organic Strawberries                  3946\n",
      "4        47209         Organic Hass Avocado                  3390\n",
      "5        21903         Organic Baby Spinach                  3336\n",
      "6        47766              Organic Avocado                  3044\n",
      "7        19660                 Spring Water                  2336\n",
      "8        16797                 Strawberries                  2308\n",
      "9        27966          Organic Raspberries                  2024\n",
      "10       44632   Sparkling Water Grapefruit                  1914\n",
      "11       49235          Organic Half & Half                  1797\n",
      "12       47626                  Large Lemon                  1737\n",
      "13         196                         Soda                  1733\n",
      "14       38689     Organic Reduced Fat Milk                  1397\n",
      "15       26209                        Limes                  1370\n",
      "16       12341                Hass Avocados                  1340\n",
      "17        5785  Organic Reduced Fat 2% Milk                  1310\n",
      "18       27086                  Half & Half                  1309\n",
      "19       22935         Organic Yellow Onion                  1246\n"
     ]
    }
   ],
   "source": [
    "first_in_cart = order_products[order_products['add_to_cart_order'] == 1]\n",
    "first_counts = first_in_cart['product_id'].value_counts().head(20).reset_index()\n",
    "first_counts.columns = ['product_id', 'first_position_count']\n",
    "top_first_products = first_counts.merge(products, on='product_id', how='left')\n",
    "print(top_first_products[['product_id', 'product_name', 'first_position_count']])\n"
   ]
  },
  {
   "cell_type": "markdown",
   "id": "a8e7e9f0-3f71-48d5-902a-4718f366bee3",
   "metadata": {},
   "source": [
    "<div class=\"alert alert-block alert-success\">\n",
    "<b>Comentario de Revisor </b> <a class=\"tocSkip\"></a>\n",
    "\n",
    "Buen trabajo. Al parecer los productos orgánicos representan el grueso de ventas en varios aspectos\n",
    "    \n",
    "</div>"
   ]
  },
  {
   "cell_type": "code",
   "execution_count": null,
   "id": "forty-netherlands",
   "metadata": {
    "id": "forty-netherlands",
    "scrolled": true
   },
   "outputs": [],
   "source": []
  },
  {
   "cell_type": "code",
   "execution_count": null,
   "id": "08e41ec2",
   "metadata": {
    "id": "08e41ec2"
   },
   "outputs": [],
   "source": []
  },
  {
   "cell_type": "markdown",
   "id": "28ce9872",
   "metadata": {
    "id": "28ce9872"
   },
   "source": [
    "Escribe aquí tus conclusiones"
   ]
  },
  {
   "cell_type": "markdown",
   "id": "uITbFCEoDosC",
   "metadata": {
    "id": "uITbFCEoDosC"
   },
   "source": [
    "### Conclusion general del proyecto:"
   ]
  },
  {
   "cell_type": "markdown",
   "id": "4baa2f50-5e37-40be-a47d-41f4560aeef9",
   "metadata": {
    "id": "Nk-4GS7mDwqY"
   },
   "source": [
    "El análisis de los datos de pedidos y productos ha permitido obtener una visión profunda del comportamiento de compra de los clientes. A partir del estudio, se identificaron patrones clave que pueden ser aprovechados para mejorar la experiencia del cliente, optimizar la oferta de productos y personalizar las estrategias de marketing.\n",
    "\n",
    "Entre los hallazgos más relevantes se encuentran:\n",
    "\n",
    "La mayoría de los clientes suelen comprar entre 3 y 10 artículos por pedido, lo que refleja un comportamiento de compra orientado a necesidades específicas y no necesariamente a compras grandes.\n",
    "\n",
    "Existen productos que son reordenados con alta frecuencia, como frutas y vegetales orgánicos, lo que indica hábitos de consumo repetitivo y lealtad a ciertos productos.\n",
    "\n",
    "A nivel individual, muchos clientes tienden a repetir una parte importante de sus compras, con una proporción alta de productos reordenados en cada pedido, lo que resalta la importancia de implementar recomendaciones personalizadas basadas en el historial.\n",
    "\n",
    "Los artículos que las personas colocan primero en sus carritos suelen coincidir con los productos más esenciales o más recordados, como el plátano, lo que sugiere que son productos prioritarios y de alta demanda.\n",
    "\n",
    "Finalmente, al identificar los productos más comúnmente reordenados y los primeros en agregarse al carrito, las tiendas pueden organizar sus estrategias de marketing, promociones y ubicación de productos para maximizar las ventas y mejorar la retención de clientes."
   ]
  },
  {
   "cell_type": "markdown",
   "id": "556be313-c38f-4de8-b6c6-673f3250e399",
   "metadata": {},
   "source": [
    "<div class=\"alert alert-block alert-success\">\n",
    "<b>Comentario de Revisor</b> <a class=\"tocSkip\"></a>\n",
    "\n",
    "Muy buen enfoque en las conclusiones. Para darles mayor fuerza, sería útil que incluyeras valores específicos de las métricas más relevantes. Esto permitirá sustentar tus afirmaciones con evidencia y mejorar la claridad del mensaje final.\n",
    "    \n",
    "</div>"
   ]
  }
 ],
 "metadata": {
  "colab": {
   "provenance": [
    {
     "file_id": "1aLGZ19-GYem3LZdYHuzuwYIeSw_tr0AT",
     "timestamp": 1689682143157
    }
   ]
  },
  "kernelspec": {
   "display_name": "Python 3 (ipykernel)",
   "language": "python",
   "name": "python3"
  },
  "language_info": {
   "codemirror_mode": {
    "name": "ipython",
    "version": 3
   },
   "file_extension": ".py",
   "mimetype": "text/x-python",
   "name": "python",
   "nbconvert_exporter": "python",
   "pygments_lexer": "ipython3",
   "version": "3.9.23"
  },
  "vscode": {
   "interpreter": {
    "hash": "01a7be9ec63e704a62cefc5fe7a4756944464ee731be31632bdf42a4cb4688cf"
   }
  }
 },
 "nbformat": 4,
 "nbformat_minor": 5
}
